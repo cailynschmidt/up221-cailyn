{
 "cells": [
  {
   "cell_type": "code",
   "execution_count": 3,
   "id": "f7b5e738-3c21-4c9f-9d90-a33bb7c3b3e1",
   "metadata": {},
   "outputs": [
    {
     "name": "stdout",
     "output_type": "stream",
     "text": [
      "upload to Github\n"
     ]
    }
   ],
   "source": [
    "# printing demonstration to upload notebook to Github\n",
    "print('upload to Github')"
   ]
  },
  {
   "cell_type": "code",
   "execution_count": null,
   "id": "42173011-8570-4305-97b0-f21224514068",
   "metadata": {},
   "outputs": [],
   "source": [
    "# Week 2 Data exploration \n",
    "## Cailyn Schmidt\n",
    "THe purpose of this assignment is to work with gis data "
   ]
  }
 ],
 "metadata": {
  "kernelspec": {
   "display_name": "Python 3 (ipykernel)",
   "language": "python",
   "name": "python3"
  },
  "language_info": {
   "codemirror_mode": {
    "name": "ipython",
    "version": 3
   },
   "file_extension": ".py",
   "mimetype": "text/x-python",
   "name": "python",
   "nbconvert_exporter": "python",
   "pygments_lexer": "ipython3",
   "version": "3.11.9"
  }
 },
 "nbformat": 4,
 "nbformat_minor": 5
}
