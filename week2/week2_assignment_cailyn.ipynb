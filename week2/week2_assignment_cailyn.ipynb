{
 "cells": [
  {
   "cell_type": "code",
   "execution_count": 3,
   "id": "f7b5e738-3c21-4c9f-9d90-a33bb7c3b3e1",
   "metadata": {},
   "outputs": [
    {
     "name": "stdout",
     "output_type": "stream",
     "text": [
      "upload to Github\n"
     ]
    }
   ],
   "source": [
    "# printing demonstration to upload notebook to Github\n",
    "print('upload to Github')"
   ]
  },
  {
   "cell_type": "code",
   "execution_count": 64,
   "id": "42173011-8570-4305-97b0-f21224514068",
   "metadata": {},
   "outputs": [],
   "source": [
    "# Week 2 Data exploration \n",
    "## Cailyn Schmidt\n",
    "# The purpose of this assignment is to work with gis data "
   ]
  },
  {
   "cell_type": "code",
   "execution_count": 1,
   "id": "2d74bb80-be61-4927-ba07-2b75ebc3c383",
   "metadata": {},
   "outputs": [
    {
     "name": "stdout",
     "output_type": "stream",
     "text": [
      "use terminal to push to github\n"
     ]
    }
   ],
   "source": [
    "print('use terminal to push to github')\n"
   ]
  },
  {
   "cell_type": "code",
   "execution_count": 10,
   "id": "c45d4271-fab7-4608-824e-07985dd3508f",
   "metadata": {},
   "outputs": [
    {
     "name": "stdout",
     "output_type": "stream",
     "text": [
      "/home/jovyan/up221-cailyn/week2/data\n"
     ]
    }
   ],
   "source": [
    "cd data"
   ]
  },
  {
   "cell_type": "code",
   "execution_count": null,
   "id": "26019413-9d17-4722-b5e6-566c6d7d59e1",
   "metadata": {},
   "outputs": [],
   "source": [
    "# I imported the code into the dataset "
   ]
  },
  {
   "cell_type": "code",
   "execution_count": 11,
   "id": "9ee11296-5276-42eb-816b-10cc1ecbddf1",
   "metadata": {},
   "outputs": [],
   "source": [
    "import pandas as pd"
   ]
  },
  {
   "cell_type": "code",
   "execution_count": null,
   "id": "f9bba619-7ca2-47bd-8138-1a551050d61d",
   "metadata": {},
   "outputs": [],
   "source": [
    "# Set data equal to a variable, df "
   ]
  },
  {
   "cell_type": "code",
   "execution_count": 12,
   "id": "b8e4b331-6a5e-452b-8899-1a833b1fe69a",
   "metadata": {},
   "outputs": [],
   "source": [
    "df = pd.read_csv(\"tree_canopy.csv\")"
   ]
  },
  {
   "cell_type": "code",
   "execution_count": null,
   "id": "421094b7-dd54-4dba-b78c-f95ff0ee4639",
   "metadata": {},
   "outputs": [],
   "source": [
    "# View the first five lines of data as a table"
   ]
  },
  {
   "cell_type": "code",
   "execution_count": 13,
   "id": "f6b07755-8a24-450c-ace1-a0585290de00",
   "metadata": {},
   "outputs": [
    {
     "data": {
      "text/html": [
       "<div>\n",
       "<style scoped>\n",
       "    .dataframe tbody tr th:only-of-type {\n",
       "        vertical-align: middle;\n",
       "    }\n",
       "\n",
       "    .dataframe tbody tr th {\n",
       "        vertical-align: top;\n",
       "    }\n",
       "\n",
       "    .dataframe thead th {\n",
       "        text-align: right;\n",
       "    }\n",
       "</style>\n",
       "<table border=\"1\" class=\"dataframe\">\n",
       "  <thead>\n",
       "    <tr style=\"text-align: right;\">\n",
       "      <th></th>\n",
       "      <th>OBJECTID</th>\n",
       "      <th>Geography ID</th>\n",
       "      <th>Geography Type</th>\n",
       "      <th>Name</th>\n",
       "      <th>Percentage of Land With Tree Canopy Coverage (Weighted by Population Size)</th>\n",
       "      <th>Shape__Area</th>\n",
       "      <th>Shape__Length</th>\n",
       "    </tr>\n",
       "  </thead>\n",
       "  <tbody>\n",
       "    <tr>\n",
       "      <th>0</th>\n",
       "      <td>1</td>\n",
       "      <td>csa_city_agoura_hills</td>\n",
       "      <td>Incorporated City</td>\n",
       "      <td>City of Agoura Hills</td>\n",
       "      <td>NaN</td>\n",
       "      <td>2.179317e+08</td>\n",
       "      <td>80376.210690</td>\n",
       "    </tr>\n",
       "    <tr>\n",
       "      <th>1</th>\n",
       "      <td>2</td>\n",
       "      <td>csa_city_alhambra</td>\n",
       "      <td>Incorporated City</td>\n",
       "      <td>City of Alhambra</td>\n",
       "      <td>4.6</td>\n",
       "      <td>2.127640e+08</td>\n",
       "      <td>69016.501522</td>\n",
       "    </tr>\n",
       "    <tr>\n",
       "      <th>2</th>\n",
       "      <td>3</td>\n",
       "      <td>csa_city_arcadia</td>\n",
       "      <td>Incorporated City</td>\n",
       "      <td>City of Arcadia</td>\n",
       "      <td>8.7</td>\n",
       "      <td>3.096963e+08</td>\n",
       "      <td>132149.401563</td>\n",
       "    </tr>\n",
       "    <tr>\n",
       "      <th>3</th>\n",
       "      <td>4</td>\n",
       "      <td>csa_city_artesia</td>\n",
       "      <td>Incorporated City</td>\n",
       "      <td>City of Artesia</td>\n",
       "      <td>NaN</td>\n",
       "      <td>4.521033e+07</td>\n",
       "      <td>40904.970655</td>\n",
       "    </tr>\n",
       "    <tr>\n",
       "      <th>4</th>\n",
       "      <td>5</td>\n",
       "      <td>csa_city_azusa</td>\n",
       "      <td>Incorporated City</td>\n",
       "      <td>City of Azusa</td>\n",
       "      <td>5.2</td>\n",
       "      <td>2.692050e+08</td>\n",
       "      <td>158881.601593</td>\n",
       "    </tr>\n",
       "  </tbody>\n",
       "</table>\n",
       "</div>"
      ],
      "text/plain": [
       "   OBJECTID           Geography ID     Geography Type                  Name  \\\n",
       "0         1  csa_city_agoura_hills  Incorporated City  City of Agoura Hills   \n",
       "1         2      csa_city_alhambra  Incorporated City      City of Alhambra   \n",
       "2         3       csa_city_arcadia  Incorporated City       City of Arcadia   \n",
       "3         4       csa_city_artesia  Incorporated City       City of Artesia   \n",
       "4         5         csa_city_azusa  Incorporated City         City of Azusa   \n",
       "\n",
       "   Percentage of Land With Tree Canopy Coverage (Weighted by Population Size)  \\\n",
       "0                                                NaN                            \n",
       "1                                                4.6                            \n",
       "2                                                8.7                            \n",
       "3                                                NaN                            \n",
       "4                                                5.2                            \n",
       "\n",
       "    Shape__Area  Shape__Length  \n",
       "0  2.179317e+08   80376.210690  \n",
       "1  2.127640e+08   69016.501522  \n",
       "2  3.096963e+08  132149.401563  \n",
       "3  4.521033e+07   40904.970655  \n",
       "4  2.692050e+08  158881.601593  "
      ]
     },
     "execution_count": 13,
     "metadata": {},
     "output_type": "execute_result"
    }
   ],
   "source": [
    "df.head()"
   ]
  },
  {
   "cell_type": "code",
   "execution_count": 14,
   "id": "b1104554-a4b8-4dc1-bea4-8d69b3a1740d",
   "metadata": {},
   "outputs": [],
   "source": [
    "# Rename columns"
   ]
  },
  {
   "cell_type": "code",
   "execution_count": 46,
   "id": "5fbcd5f1-855a-4be7-9419-c1705df2b45e",
   "metadata": {},
   "outputs": [],
   "source": [
    "df = df.rename(columns={'Name': 'City', 'OBJECTID': 'Number', 'Shape__Area' : 'Area', 'Shape__Length' : 'Length', 'Percentage of Land With Tree Canopy Coverage (Weighted by Population Size)' : 'Percentage of Land Canopy Coverage'})"
   ]
  },
  {
   "cell_type": "code",
   "execution_count": 44,
   "id": "5d252c4e-f8c7-4a05-9d58-876ad9f26167",
   "metadata": {},
   "outputs": [],
   "source": [
    "# View columns with different name values"
   ]
  },
  {
   "cell_type": "code",
   "execution_count": 47,
   "id": "902a0a2e-c9fc-48e3-a7cd-d126c2ec18a9",
   "metadata": {},
   "outputs": [
    {
     "data": {
      "text/html": [
       "<div>\n",
       "<style scoped>\n",
       "    .dataframe tbody tr th:only-of-type {\n",
       "        vertical-align: middle;\n",
       "    }\n",
       "\n",
       "    .dataframe tbody tr th {\n",
       "        vertical-align: top;\n",
       "    }\n",
       "\n",
       "    .dataframe thead th {\n",
       "        text-align: right;\n",
       "    }\n",
       "</style>\n",
       "<table border=\"1\" class=\"dataframe\">\n",
       "  <thead>\n",
       "    <tr style=\"text-align: right;\">\n",
       "      <th></th>\n",
       "      <th>Number</th>\n",
       "      <th>Geography ID</th>\n",
       "      <th>Geography Type</th>\n",
       "      <th>City</th>\n",
       "      <th>Percentage of Land Canopy Coverage</th>\n",
       "      <th>Area</th>\n",
       "      <th>Length</th>\n",
       "    </tr>\n",
       "  </thead>\n",
       "  <tbody>\n",
       "    <tr>\n",
       "      <th>0</th>\n",
       "      <td>1</td>\n",
       "      <td>csa_city_agoura_hills</td>\n",
       "      <td>Incorporated City</td>\n",
       "      <td>City of Agoura Hills</td>\n",
       "      <td>NaN</td>\n",
       "      <td>2.179317e+08</td>\n",
       "      <td>80376.210690</td>\n",
       "    </tr>\n",
       "    <tr>\n",
       "      <th>1</th>\n",
       "      <td>2</td>\n",
       "      <td>csa_city_alhambra</td>\n",
       "      <td>Incorporated City</td>\n",
       "      <td>City of Alhambra</td>\n",
       "      <td>4.6</td>\n",
       "      <td>2.127640e+08</td>\n",
       "      <td>69016.501522</td>\n",
       "    </tr>\n",
       "    <tr>\n",
       "      <th>2</th>\n",
       "      <td>3</td>\n",
       "      <td>csa_city_arcadia</td>\n",
       "      <td>Incorporated City</td>\n",
       "      <td>City of Arcadia</td>\n",
       "      <td>8.7</td>\n",
       "      <td>3.096963e+08</td>\n",
       "      <td>132149.401563</td>\n",
       "    </tr>\n",
       "    <tr>\n",
       "      <th>3</th>\n",
       "      <td>4</td>\n",
       "      <td>csa_city_artesia</td>\n",
       "      <td>Incorporated City</td>\n",
       "      <td>City of Artesia</td>\n",
       "      <td>NaN</td>\n",
       "      <td>4.521033e+07</td>\n",
       "      <td>40904.970655</td>\n",
       "    </tr>\n",
       "    <tr>\n",
       "      <th>4</th>\n",
       "      <td>5</td>\n",
       "      <td>csa_city_azusa</td>\n",
       "      <td>Incorporated City</td>\n",
       "      <td>City of Azusa</td>\n",
       "      <td>5.2</td>\n",
       "      <td>2.692050e+08</td>\n",
       "      <td>158881.601593</td>\n",
       "    </tr>\n",
       "  </tbody>\n",
       "</table>\n",
       "</div>"
      ],
      "text/plain": [
       "   Number           Geography ID     Geography Type                  City  \\\n",
       "0       1  csa_city_agoura_hills  Incorporated City  City of Agoura Hills   \n",
       "1       2      csa_city_alhambra  Incorporated City      City of Alhambra   \n",
       "2       3       csa_city_arcadia  Incorporated City       City of Arcadia   \n",
       "3       4       csa_city_artesia  Incorporated City       City of Artesia   \n",
       "4       5         csa_city_azusa  Incorporated City         City of Azusa   \n",
       "\n",
       "   Percentage of Land Canopy Coverage          Area         Length  \n",
       "0                                 NaN  2.179317e+08   80376.210690  \n",
       "1                                 4.6  2.127640e+08   69016.501522  \n",
       "2                                 8.7  3.096963e+08  132149.401563  \n",
       "3                                 NaN  4.521033e+07   40904.970655  \n",
       "4                                 5.2  2.692050e+08  158881.601593  "
      ]
     },
     "execution_count": 47,
     "metadata": {},
     "output_type": "execute_result"
    }
   ],
   "source": [
    "df.head()"
   ]
  },
  {
   "cell_type": "code",
   "execution_count": 18,
   "id": "7a1e16f1-26a8-4d02-8620-7969a6bb595e",
   "metadata": {},
   "outputs": [],
   "source": [
    "# df.shape tells me how many rows and how many columns are in my data set"
   ]
  },
  {
   "cell_type": "code",
   "execution_count": 19,
   "id": "464c8947-95b1-47f3-862f-f6617e310f1c",
   "metadata": {},
   "outputs": [
    {
     "data": {
      "text/plain": [
       "(210, 7)"
      ]
     },
     "execution_count": 19,
     "metadata": {},
     "output_type": "execute_result"
    }
   ],
   "source": [
    "df.shape"
   ]
  },
  {
   "cell_type": "code",
   "execution_count": 20,
   "id": "66513e7c-ae81-4732-baf3-6c8da4167ac5",
   "metadata": {},
   "outputs": [],
   "source": [
    "# df.columns.to_list() shows me the number of columns "
   ]
  },
  {
   "cell_type": "code",
   "execution_count": 21,
   "id": "1eef212a-e85a-484b-9b69-afc8c1ac9e14",
   "metadata": {},
   "outputs": [],
   "source": [
    "df.columns.to_list()\n",
    "col=df.columns.to_list()"
   ]
  },
  {
   "cell_type": "code",
   "execution_count": 22,
   "id": "1a56cdb4-31d6-4669-b12a-fddc9bfdcc6f",
   "metadata": {},
   "outputs": [
    {
     "data": {
      "text/plain": [
       "147            Unincorporated - Newhall\n",
       "93     Unincorporated - Athens-Westmont\n",
       "35         City of La Canada Flintridge\n",
       "2                       City of Arcadia\n",
       "34                    City of Irwindale\n",
       "Name: City, dtype: object"
      ]
     },
     "execution_count": 22,
     "metadata": {},
     "output_type": "execute_result"
    }
   ],
   "source": [
    "# single column \n",
    "df.City.sample(5)"
   ]
  },
  {
   "cell_type": "code",
   "execution_count": 23,
   "id": "a0541f41-4c12-4a10-801c-b9465ddb298b",
   "metadata": {},
   "outputs": [],
   "source": [
    "# Explore the values of data and the most frequently occuring value, set calue counts of land canopy coverage to variable cc "
   ]
  },
  {
   "cell_type": "code",
   "execution_count": 48,
   "id": "520898d5-8c73-4119-9160-0b583d8810b2",
   "metadata": {},
   "outputs": [],
   "source": [
    "cc=df['Percentage of Land Canopy Coverage'].value_counts"
   ]
  },
  {
   "cell_type": "code",
   "execution_count": null,
   "id": "39041119-6774-49b7-ada5-040c856eb44b",
   "metadata": {},
   "outputs": [],
   "source": [
    "cc"
   ]
  },
  {
   "cell_type": "code",
   "execution_count": null,
   "id": "50cda739-00d1-4e7a-aa18-11e281cce142",
   "metadata": {},
   "outputs": [],
   "source": [
    "# df.info tells me the number of columns, the column names and the data type (integer, object, or float) in addition to the memory used for the dataset. Nonnull refers to completeness of dataset "
   ]
  },
  {
   "cell_type": "code",
   "execution_count": null,
   "id": "4949b18e-2e28-4266-a7d9-d46f664f47a5",
   "metadata": {},
   "outputs": [],
   "source": [
    "df.info(1)"
   ]
  },
  {
   "cell_type": "code",
   "execution_count": null,
   "id": "86c0285c-5773-4bdf-a949-57e67f9ad687",
   "metadata": {},
   "outputs": [],
   "source": [
    "# df.plot helps me to create a scatter plot of all my data points. However, the x-axis becomes unreadable due to the immense amount of data. "
   ]
  },
  {
   "cell_type": "code",
   "execution_count": 63,
   "id": "f0ca6f90-e043-4ee8-aaf0-48a812511e05",
   "metadata": {},
   "outputs": [
    {
     "data": {
      "text/plain": [
       "<Axes: title={'center': 'Tree Coverage in LA'}, xlabel='City', ylabel='Percentage of Land Canopy Coverage'>"
      ]
     },
     "execution_count": 63,
     "metadata": {},
     "output_type": "execute_result"
    },
    {
     "data": {
      "image/png": "[encoded data removed]",
      "text/plain": [
       "<Figure size 640x480 with 1 Axes>"
      ]
     },
     "metadata": {},
     "output_type": "display_data"
    }
   ],
   "source": [
    "df.plot.scatter(x= 'City', y='Percentage of Land Canopy Coverage', title = 'Tree Coverage in LA')"
   ]
  },
  {
   "cell_type": "code",
   "execution_count": 25,
   "id": "9003eb4f-d595-405c-955c-e6177db05665",
   "metadata": {},
   "outputs": [
    {
     "name": "stdout",
     "output_type": "stream",
     "text": [
      "<class 'pandas.core.frame.DataFrame'>\n",
      "RangeIndex: 210 entries, 0 to 209\n",
      "Data columns (total 7 columns):\n",
      " #   Column                                                                      Non-Null Count  Dtype  \n",
      "---  ------                                                                      --------------  -----  \n",
      " 0   Number                                                                      210 non-null    int64  \n",
      " 1   Geography ID                                                                210 non-null    object \n",
      " 2   Geography Type                                                              210 non-null    object \n",
      " 3   City                                                                        210 non-null    object \n",
      " 4   Percentage of Land With Tree Canopy Coverage (Weighted by Population Size)  76 non-null     float64\n",
      " 5   Area                                                                        210 non-null    float64\n",
      " 6   Length                                                                      210 non-null    float64\n",
      "dtypes: float64(3), int64(1), object(3)\n",
      "memory usage: 11.6+ KB\n"
     ]
    }
   ],
   "source": [
    "df.info()"
   ]
  },
  {
   "cell_type": "code",
   "execution_count": 50,
   "id": "ffbbbc52-048b-4ecb-a19d-99cca24038a3",
   "metadata": {},
   "outputs": [
    {
     "data": {
      "text/html": [
       "<div>\n",
       "<style scoped>\n",
       "    .dataframe tbody tr th:only-of-type {\n",
       "        vertical-align: middle;\n",
       "    }\n",
       "\n",
       "    .dataframe tbody tr th {\n",
       "        vertical-align: top;\n",
       "    }\n",
       "\n",
       "    .dataframe thead th {\n",
       "        text-align: right;\n",
       "    }\n",
       "</style>\n",
       "<table border=\"1\" class=\"dataframe\">\n",
       "  <thead>\n",
       "    <tr style=\"text-align: right;\">\n",
       "      <th></th>\n",
       "      <th>City</th>\n",
       "      <th>Percentage of Land Canopy Coverage</th>\n",
       "      <th>Area</th>\n",
       "      <th>Length</th>\n",
       "    </tr>\n",
       "  </thead>\n",
       "  <tbody>\n",
       "    <tr>\n",
       "      <th>0</th>\n",
       "      <td>City of Agoura Hills</td>\n",
       "      <td>NaN</td>\n",
       "      <td>2.179317e+08</td>\n",
       "      <td>8.037621e+04</td>\n",
       "    </tr>\n",
       "    <tr>\n",
       "      <th>1</th>\n",
       "      <td>City of Alhambra</td>\n",
       "      <td>4.6</td>\n",
       "      <td>2.127640e+08</td>\n",
       "      <td>6.901650e+04</td>\n",
       "    </tr>\n",
       "    <tr>\n",
       "      <th>2</th>\n",
       "      <td>City of Arcadia</td>\n",
       "      <td>8.7</td>\n",
       "      <td>3.096963e+08</td>\n",
       "      <td>1.321494e+05</td>\n",
       "    </tr>\n",
       "    <tr>\n",
       "      <th>3</th>\n",
       "      <td>City of Artesia</td>\n",
       "      <td>NaN</td>\n",
       "      <td>4.521033e+07</td>\n",
       "      <td>4.090497e+04</td>\n",
       "    </tr>\n",
       "    <tr>\n",
       "      <th>4</th>\n",
       "      <td>City of Azusa</td>\n",
       "      <td>5.2</td>\n",
       "      <td>2.692050e+08</td>\n",
       "      <td>1.588816e+05</td>\n",
       "    </tr>\n",
       "    <tr>\n",
       "      <th>...</th>\n",
       "      <td>...</td>\n",
       "      <td>...</td>\n",
       "      <td>...</td>\n",
       "      <td>...</td>\n",
       "    </tr>\n",
       "    <tr>\n",
       "      <th>205</th>\n",
       "      <td>Unincorporated - San Clemente Island</td>\n",
       "      <td>NaN</td>\n",
       "      <td>1.573237e+09</td>\n",
       "      <td>3.892104e+05</td>\n",
       "    </tr>\n",
       "    <tr>\n",
       "      <th>206</th>\n",
       "      <td>Unincorporated - Santa Catalina Island</td>\n",
       "      <td>NaN</td>\n",
       "      <td>1.999368e+09</td>\n",
       "      <td>4.157972e+05</td>\n",
       "    </tr>\n",
       "    <tr>\n",
       "      <th>207</th>\n",
       "      <td>Unincorporated - Kinneloa Mesa</td>\n",
       "      <td>NaN</td>\n",
       "      <td>4.682048e+07</td>\n",
       "      <td>5.656291e+04</td>\n",
       "    </tr>\n",
       "    <tr>\n",
       "      <th>208</th>\n",
       "      <td>Unincorporated - East Pasadena</td>\n",
       "      <td>NaN</td>\n",
       "      <td>3.714688e+07</td>\n",
       "      <td>4.102187e+04</td>\n",
       "    </tr>\n",
       "    <tr>\n",
       "      <th>209</th>\n",
       "      <td>City of Los Angeles</td>\n",
       "      <td>4.1</td>\n",
       "      <td>1.319049e+10</td>\n",
       "      <td>1.801593e+06</td>\n",
       "    </tr>\n",
       "  </tbody>\n",
       "</table>\n",
       "<p>210 rows × 4 columns</p>\n",
       "</div>"
      ],
      "text/plain": [
       "                                       City  \\\n",
       "0                      City of Agoura Hills   \n",
       "1                          City of Alhambra   \n",
       "2                           City of Arcadia   \n",
       "3                           City of Artesia   \n",
       "4                             City of Azusa   \n",
       "..                                      ...   \n",
       "205    Unincorporated - San Clemente Island   \n",
       "206  Unincorporated - Santa Catalina Island   \n",
       "207          Unincorporated - Kinneloa Mesa   \n",
       "208          Unincorporated - East Pasadena   \n",
       "209                     City of Los Angeles   \n",
       "\n",
       "     Percentage of Land Canopy Coverage          Area        Length  \n",
       "0                                   NaN  2.179317e+08  8.037621e+04  \n",
       "1                                   4.6  2.127640e+08  6.901650e+04  \n",
       "2                                   8.7  3.096963e+08  1.321494e+05  \n",
       "3                                   NaN  4.521033e+07  4.090497e+04  \n",
       "4                                   5.2  2.692050e+08  1.588816e+05  \n",
       "..                                  ...           ...           ...  \n",
       "205                                 NaN  1.573237e+09  3.892104e+05  \n",
       "206                                 NaN  1.999368e+09  4.157972e+05  \n",
       "207                                 NaN  4.682048e+07  5.656291e+04  \n",
       "208                                 NaN  3.714688e+07  4.102187e+04  \n",
       "209                                 4.1  1.319049e+10  1.801593e+06  \n",
       "\n",
       "[210 rows x 4 columns]"
      ]
     },
     "execution_count": 50,
     "metadata": {},
     "output_type": "execute_result"
    }
   ],
   "source": [
    "# show a dataframe with a subset of columns\n",
    "df[['City', 'Percentage of Land Canopy Coverage', 'Area', 'Length']]"
   ]
  },
  {
   "cell_type": "code",
   "execution_count": 51,
   "id": "30ce4c1d-ece1-4a7a-a7d2-1baba6cadac2",
   "metadata": {},
   "outputs": [
    {
     "data": {
      "text/html": [
       "<div>\n",
       "<style scoped>\n",
       "    .dataframe tbody tr th:only-of-type {\n",
       "        vertical-align: middle;\n",
       "    }\n",
       "\n",
       "    .dataframe tbody tr th {\n",
       "        vertical-align: top;\n",
       "    }\n",
       "\n",
       "    .dataframe thead th {\n",
       "        text-align: right;\n",
       "    }\n",
       "</style>\n",
       "<table border=\"1\" class=\"dataframe\">\n",
       "  <thead>\n",
       "    <tr style=\"text-align: right;\">\n",
       "      <th></th>\n",
       "      <th>City</th>\n",
       "      <th>Percentage of Land Canopy Coverage</th>\n",
       "    </tr>\n",
       "  </thead>\n",
       "  <tbody>\n",
       "    <tr>\n",
       "      <th>161</th>\n",
       "      <td>Unincorporated - Rosewood/East Gardena</td>\n",
       "      <td>NaN</td>\n",
       "    </tr>\n",
       "    <tr>\n",
       "      <th>112</th>\n",
       "      <td>Unincorporated - Duarte</td>\n",
       "      <td>NaN</td>\n",
       "    </tr>\n",
       "    <tr>\n",
       "      <th>201</th>\n",
       "      <td>Unincorporated - Westfield/Academy Hills</td>\n",
       "      <td>NaN</td>\n",
       "    </tr>\n",
       "    <tr>\n",
       "      <th>115</th>\n",
       "      <td>Unincorporated - East Lancaster</td>\n",
       "      <td>NaN</td>\n",
       "    </tr>\n",
       "    <tr>\n",
       "      <th>20</th>\n",
       "      <td>City of Downey</td>\n",
       "      <td>3.9</td>\n",
       "    </tr>\n",
       "  </tbody>\n",
       "</table>\n",
       "</div>"
      ],
      "text/plain": [
       "                                         City  \\\n",
       "161    Unincorporated - Rosewood/East Gardena   \n",
       "112                   Unincorporated - Duarte   \n",
       "201  Unincorporated - Westfield/Academy Hills   \n",
       "115           Unincorporated - East Lancaster   \n",
       "20                             City of Downey   \n",
       "\n",
       "     Percentage of Land Canopy Coverage  \n",
       "161                                 NaN  \n",
       "112                                 NaN  \n",
       "201                                 NaN  \n",
       "115                                 NaN  \n",
       "20                                  3.9  "
      ]
     },
     "execution_count": 51,
     "metadata": {},
     "output_type": "execute_result"
    }
   ],
   "source": [
    "# list of desired column names \n",
    "desired_columns = ['City', 'Percentage of Land Canopy Coverage']\n",
    "\n",
    "#subset based on desired columns\n",
    "df[desired_columns].sample(5)"
   ]
  },
  {
   "cell_type": "code",
   "execution_count": 52,
   "id": "0d8e8ffe-2ef9-481f-aadd-c331b7c6023d",
   "metadata": {},
   "outputs": [
    {
     "data": {
      "text/html": [
       "<div>\n",
       "<style scoped>\n",
       "    .dataframe tbody tr th:only-of-type {\n",
       "        vertical-align: middle;\n",
       "    }\n",
       "\n",
       "    .dataframe tbody tr th {\n",
       "        vertical-align: top;\n",
       "    }\n",
       "\n",
       "    .dataframe thead th {\n",
       "        text-align: right;\n",
       "    }\n",
       "</style>\n",
       "<table border=\"1\" class=\"dataframe\">\n",
       "  <thead>\n",
       "    <tr style=\"text-align: right;\">\n",
       "      <th></th>\n",
       "      <th>City</th>\n",
       "      <th>Percentage of Land Canopy Coverage</th>\n",
       "    </tr>\n",
       "  </thead>\n",
       "  <tbody>\n",
       "    <tr>\n",
       "      <th>0</th>\n",
       "      <td>City of Agoura Hills</td>\n",
       "      <td>NaN</td>\n",
       "    </tr>\n",
       "    <tr>\n",
       "      <th>1</th>\n",
       "      <td>City of Alhambra</td>\n",
       "      <td>4.6</td>\n",
       "    </tr>\n",
       "    <tr>\n",
       "      <th>2</th>\n",
       "      <td>City of Arcadia</td>\n",
       "      <td>8.7</td>\n",
       "    </tr>\n",
       "    <tr>\n",
       "      <th>3</th>\n",
       "      <td>City of Artesia</td>\n",
       "      <td>NaN</td>\n",
       "    </tr>\n",
       "    <tr>\n",
       "      <th>4</th>\n",
       "      <td>City of Azusa</td>\n",
       "      <td>5.2</td>\n",
       "    </tr>\n",
       "    <tr>\n",
       "      <th>...</th>\n",
       "      <td>...</td>\n",
       "      <td>...</td>\n",
       "    </tr>\n",
       "    <tr>\n",
       "      <th>205</th>\n",
       "      <td>Unincorporated - San Clemente Island</td>\n",
       "      <td>NaN</td>\n",
       "    </tr>\n",
       "    <tr>\n",
       "      <th>206</th>\n",
       "      <td>Unincorporated - Santa Catalina Island</td>\n",
       "      <td>NaN</td>\n",
       "    </tr>\n",
       "    <tr>\n",
       "      <th>207</th>\n",
       "      <td>Unincorporated - Kinneloa Mesa</td>\n",
       "      <td>NaN</td>\n",
       "    </tr>\n",
       "    <tr>\n",
       "      <th>208</th>\n",
       "      <td>Unincorporated - East Pasadena</td>\n",
       "      <td>NaN</td>\n",
       "    </tr>\n",
       "    <tr>\n",
       "      <th>209</th>\n",
       "      <td>City of Los Angeles</td>\n",
       "      <td>4.1</td>\n",
       "    </tr>\n",
       "  </tbody>\n",
       "</table>\n",
       "<p>210 rows × 2 columns</p>\n",
       "</div>"
      ],
      "text/plain": [
       "                                       City  \\\n",
       "0                      City of Agoura Hills   \n",
       "1                          City of Alhambra   \n",
       "2                           City of Arcadia   \n",
       "3                           City of Artesia   \n",
       "4                             City of Azusa   \n",
       "..                                      ...   \n",
       "205    Unincorporated - San Clemente Island   \n",
       "206  Unincorporated - Santa Catalina Island   \n",
       "207          Unincorporated - Kinneloa Mesa   \n",
       "208          Unincorporated - East Pasadena   \n",
       "209                     City of Los Angeles   \n",
       "\n",
       "     Percentage of Land Canopy Coverage  \n",
       "0                                   NaN  \n",
       "1                                   4.6  \n",
       "2                                   8.7  \n",
       "3                                   NaN  \n",
       "4                                   5.2  \n",
       "..                                  ...  \n",
       "205                                 NaN  \n",
       "206                                 NaN  \n",
       "207                                 NaN  \n",
       "208                                 NaN  \n",
       "209                                 4.1  \n",
       "\n",
       "[210 rows x 2 columns]"
      ]
     },
     "execution_count": 52,
     "metadata": {},
     "output_type": "execute_result"
    }
   ],
   "source": [
    "#create new variable as a copy of desired_columns \n",
    "df_trimmed=df[desired_columns].copy()\n",
    "df_trimmed"
   ]
  },
  {
   "cell_type": "code",
   "execution_count": null,
   "id": "12e917b4-ad18-4a40-a2df-a491fadfe0be",
   "metadata": {},
   "outputs": [],
   "source": [
    "# Remove NaN values from data set"
   ]
  },
  {
   "cell_type": "code",
   "execution_count": 53,
   "id": "6dc825cf-3622-4a1a-be09-c7f882a64edd",
   "metadata": {},
   "outputs": [
    {
     "name": "stdout",
     "output_type": "stream",
     "text": [
      "                                          City  \\\n",
      "1                             City of Alhambra   \n",
      "2                              City of Arcadia   \n",
      "4                                City of Azusa   \n",
      "5                         City of Baldwin Park   \n",
      "6                                 City of Bell   \n",
      "..                                         ...   \n",
      "183                   Unincorporated - Valinda   \n",
      "187               Unincorporated - West Carson   \n",
      "192  Unincorporated - West Whittier/Los Nietos   \n",
      "197               Unincorporated - Willowbrook   \n",
      "209                        City of Los Angeles   \n",
      "\n",
      "     Percentage of Land Canopy Coverage  \n",
      "1                                   4.6  \n",
      "2                                   8.7  \n",
      "4                                   5.2  \n",
      "5                                   3.9  \n",
      "6                                   2.2  \n",
      "..                                  ...  \n",
      "183                                 6.2  \n",
      "187                                 1.9  \n",
      "192                                 5.0  \n",
      "197                                 2.4  \n",
      "209                                 4.1  \n",
      "\n",
      "[76 rows x 2 columns]\n"
     ]
    }
   ],
   "source": [
    "df_trimmed.dropna(inplace=True)\n",
    "print(df_trimmed)"
   ]
  },
  {
   "cell_type": "code",
   "execution_count": 30,
   "id": "6d8106e5-8f1b-4eec-993a-114b199dd21c",
   "metadata": {},
   "outputs": [],
   "source": [
    "# view the first five rows of new dataset "
   ]
  },
  {
   "cell_type": "code",
   "execution_count": 54,
   "id": "3956c9fd-02f9-4f66-9538-f1c0304be689",
   "metadata": {},
   "outputs": [
    {
     "data": {
      "text/html": [
       "<div>\n",
       "<style scoped>\n",
       "    .dataframe tbody tr th:only-of-type {\n",
       "        vertical-align: middle;\n",
       "    }\n",
       "\n",
       "    .dataframe tbody tr th {\n",
       "        vertical-align: top;\n",
       "    }\n",
       "\n",
       "    .dataframe thead th {\n",
       "        text-align: right;\n",
       "    }\n",
       "</style>\n",
       "<table border=\"1\" class=\"dataframe\">\n",
       "  <thead>\n",
       "    <tr style=\"text-align: right;\">\n",
       "      <th></th>\n",
       "      <th>City</th>\n",
       "      <th>Percentage of Land Canopy Coverage</th>\n",
       "    </tr>\n",
       "  </thead>\n",
       "  <tbody>\n",
       "    <tr>\n",
       "      <th>1</th>\n",
       "      <td>City of Alhambra</td>\n",
       "      <td>4.6</td>\n",
       "    </tr>\n",
       "    <tr>\n",
       "      <th>2</th>\n",
       "      <td>City of Arcadia</td>\n",
       "      <td>8.7</td>\n",
       "    </tr>\n",
       "    <tr>\n",
       "      <th>4</th>\n",
       "      <td>City of Azusa</td>\n",
       "      <td>5.2</td>\n",
       "    </tr>\n",
       "    <tr>\n",
       "      <th>5</th>\n",
       "      <td>City of Baldwin Park</td>\n",
       "      <td>3.9</td>\n",
       "    </tr>\n",
       "    <tr>\n",
       "      <th>6</th>\n",
       "      <td>City of Bell</td>\n",
       "      <td>2.2</td>\n",
       "    </tr>\n",
       "  </tbody>\n",
       "</table>\n",
       "</div>"
      ],
      "text/plain": [
       "                   City  Percentage of Land Canopy Coverage\n",
       "1      City of Alhambra                                 4.6\n",
       "2       City of Arcadia                                 8.7\n",
       "4         City of Azusa                                 5.2\n",
       "5  City of Baldwin Park                                 3.9\n",
       "6          City of Bell                                 2.2"
      ]
     },
     "execution_count": 54,
     "metadata": {},
     "output_type": "execute_result"
    }
   ],
   "source": [
    "df_trimmed.head()"
   ]
  },
  {
   "cell_type": "code",
   "execution_count": 57,
   "id": "4ce484f3-943a-4d48-8c9c-aa76b17ac5ba",
   "metadata": {},
   "outputs": [],
   "source": [
    "# view first five rows of new dataset as a bar graph"
   ]
  },
  {
   "cell_type": "code",
   "execution_count": 56,
   "id": "a39ca3c7-bfc3-49ed-aa41-13cd4b8f92d0",
   "metadata": {},
   "outputs": [
    {
     "data": {
      "text/plain": [
       "<Axes: title={'center': 'Tree Coverage in LA'}, xlabel='City'>"
      ]
     },
     "execution_count": 56,
     "metadata": {},
     "output_type": "execute_result"
    },
    {
     "data": {
      "image/png": "[encoded data removed]",
      "text/plain": [
       "<Figure size 640x480 with 1 Axes>"
      ]
     },
     "metadata": {},
     "output_type": "display_data"
    }
   ],
   "source": [
    "df_trimmed.head(5).plot.bar(x='City', y='Percentage of Land Canopy Coverage', title = 'Tree Coverage in LA')"
   ]
  }
 ],
 "metadata": {
  "kernelspec": {
   "display_name": "Python 3 (ipykernel)",
   "language": "python",
   "name": "python3"
  },
  "language_info": {
   "codemirror_mode": {
    "name": "ipython",
    "version": 3
   },
   "file_extension": ".py",
   "mimetype": "text/x-python",
   "name": "python",
   "nbconvert_exporter": "python",
   "pygments_lexer": "ipython3",
   "version": "3.11.9"
  }
 },
 "nbformat": 4,
 "nbformat_minor": 5
}
