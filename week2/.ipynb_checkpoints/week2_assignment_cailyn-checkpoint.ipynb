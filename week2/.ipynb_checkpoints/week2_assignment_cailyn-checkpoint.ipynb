{
 "cells": [
  {
   "cell_type": "code",
   "execution_count": 3,
   "id": "f7b5e738-3c21-4c9f-9d90-a33bb7c3b3e1",
   "metadata": {},
   "outputs": [
    {
     "name": "stdout",
     "output_type": "stream",
     "text": [
      "upload to Github\n"
     ]
    }
   ],
   "source": [
    "# printing demonstration to upload notebook to Github\n",
    "print('upload to Github')"
   ]
  },
  {
   "cell_type": "code",
   "execution_count": 3,
   "id": "42173011-8570-4305-97b0-f21224514068",
   "metadata": {},
   "outputs": [
    {
     "ename": "SyntaxError",
     "evalue": "invalid syntax (3515348561.py, line 3)",
     "output_type": "error",
     "traceback": [
      "\u001b[0;36m  Cell \u001b[0;32mIn[3], line 3\u001b[0;36m\u001b[0m\n\u001b[0;31m    The purpose of this assignment is to work with gis data\u001b[0m\n\u001b[0m        ^\u001b[0m\n\u001b[0;31mSyntaxError\u001b[0m\u001b[0;31m:\u001b[0m invalid syntax\n"
     ]
    }
   ],
   "source": [
    "# Week 2 Data exploration \n",
    "## Cailyn Schmidt\n",
    "The purpose of this assignment is to work with gis data "
   ]
  },
  {
   "cell_type": "code",
   "execution_count": 1,
   "id": "2d74bb80-be61-4927-ba07-2b75ebc3c383",
   "metadata": {},
   "outputs": [
    {
     "name": "stdout",
     "output_type": "stream",
     "text": [
      "use terminal to push to github\n"
     ]
    }
   ],
   "source": [
    "print('use terminal to push to github')\n"
   ]
  },
  {
   "cell_type": "code",
   "execution_count": 6,
   "id": "c45d4271-fab7-4608-824e-07985dd3508f",
   "metadata": {},
   "outputs": [
    {
     "name": "stdout",
     "output_type": "stream",
     "text": [
      "/home/jovyan/up221-cailyn/week2/data\n"
     ]
    }
   ],
   "source": [
    "cd data"
   ]
  },
  {
   "cell_type": "code",
   "execution_count": null,
   "id": "26019413-9d17-4722-b5e6-566c6d7d59e1",
   "metadata": {},
   "outputs": [],
   "source": [
    "# I imported the code into the dataset "
   ]
  },
  {
   "cell_type": "code",
   "execution_count": 9,
   "id": "9ee11296-5276-42eb-816b-10cc1ecbddf1",
   "metadata": {},
   "outputs": [],
   "source": [
    "import pandas as pd"
   ]
  },
  {
   "cell_type": "code",
   "execution_count": null,
   "id": "f9bba619-7ca2-47bd-8138-1a551050d61d",
   "metadata": {},
   "outputs": [],
   "source": [
    "# Set data equal to a variable, df "
   ]
  },
  {
   "cell_type": "code",
   "execution_count": 10,
   "id": "b8e4b331-6a5e-452b-8899-1a833b1fe69a",
   "metadata": {},
   "outputs": [],
   "source": [
    "df = pd.read_csv(\"tree_canopy.csv\")"
   ]
  },
  {
   "cell_type": "code",
   "execution_count": null,
   "id": "421094b7-dd54-4dba-b78c-f95ff0ee4639",
   "metadata": {},
   "outputs": [],
   "source": [
    "# View the first five lines of data as a table"
   ]
  },
  {
   "cell_type": "code",
   "execution_count": 11,
   "id": "f6b07755-8a24-450c-ace1-a0585290de00",
   "metadata": {},
   "outputs": [
    {
     "data": {
      "text/html": [
       "<div>\n",
       "<style scoped>\n",
       "    .dataframe tbody tr th:only-of-type {\n",
       "        vertical-align: middle;\n",
       "    }\n",
       "\n",
       "    .dataframe tbody tr th {\n",
       "        vertical-align: top;\n",
       "    }\n",
       "\n",
       "    .dataframe thead th {\n",
       "        text-align: right;\n",
       "    }\n",
       "</style>\n",
       "<table border=\"1\" class=\"dataframe\">\n",
       "  <thead>\n",
       "    <tr style=\"text-align: right;\">\n",
       "      <th></th>\n",
       "      <th>OBJECTID</th>\n",
       "      <th>Geography ID</th>\n",
       "      <th>Geography Type</th>\n",
       "      <th>Name</th>\n",
       "      <th>Percentage of Land With Tree Canopy Coverage (Weighted by Population Size)</th>\n",
       "      <th>Shape__Area</th>\n",
       "      <th>Shape__Length</th>\n",
       "    </tr>\n",
       "  </thead>\n",
       "  <tbody>\n",
       "    <tr>\n",
       "      <th>0</th>\n",
       "      <td>1</td>\n",
       "      <td>csa_city_agoura_hills</td>\n",
       "      <td>Incorporated City</td>\n",
       "      <td>City of Agoura Hills</td>\n",
       "      <td>NaN</td>\n",
       "      <td>2.179317e+08</td>\n",
       "      <td>80376.210690</td>\n",
       "    </tr>\n",
       "    <tr>\n",
       "      <th>1</th>\n",
       "      <td>2</td>\n",
       "      <td>csa_city_alhambra</td>\n",
       "      <td>Incorporated City</td>\n",
       "      <td>City of Alhambra</td>\n",
       "      <td>4.6</td>\n",
       "      <td>2.127640e+08</td>\n",
       "      <td>69016.501522</td>\n",
       "    </tr>\n",
       "    <tr>\n",
       "      <th>2</th>\n",
       "      <td>3</td>\n",
       "      <td>csa_city_arcadia</td>\n",
       "      <td>Incorporated City</td>\n",
       "      <td>City of Arcadia</td>\n",
       "      <td>8.7</td>\n",
       "      <td>3.096963e+08</td>\n",
       "      <td>132149.401563</td>\n",
       "    </tr>\n",
       "    <tr>\n",
       "      <th>3</th>\n",
       "      <td>4</td>\n",
       "      <td>csa_city_artesia</td>\n",
       "      <td>Incorporated City</td>\n",
       "      <td>City of Artesia</td>\n",
       "      <td>NaN</td>\n",
       "      <td>4.521033e+07</td>\n",
       "      <td>40904.970655</td>\n",
       "    </tr>\n",
       "    <tr>\n",
       "      <th>4</th>\n",
       "      <td>5</td>\n",
       "      <td>csa_city_azusa</td>\n",
       "      <td>Incorporated City</td>\n",
       "      <td>City of Azusa</td>\n",
       "      <td>5.2</td>\n",
       "      <td>2.692050e+08</td>\n",
       "      <td>158881.601593</td>\n",
       "    </tr>\n",
       "  </tbody>\n",
       "</table>\n",
       "</div>"
      ],
      "text/plain": [
       "   OBJECTID           Geography ID     Geography Type                  Name  \\\n",
       "0         1  csa_city_agoura_hills  Incorporated City  City of Agoura Hills   \n",
       "1         2      csa_city_alhambra  Incorporated City      City of Alhambra   \n",
       "2         3       csa_city_arcadia  Incorporated City       City of Arcadia   \n",
       "3         4       csa_city_artesia  Incorporated City       City of Artesia   \n",
       "4         5         csa_city_azusa  Incorporated City         City of Azusa   \n",
       "\n",
       "   Percentage of Land With Tree Canopy Coverage (Weighted by Population Size)  \\\n",
       "0                                                NaN                            \n",
       "1                                                4.6                            \n",
       "2                                                8.7                            \n",
       "3                                                NaN                            \n",
       "4                                                5.2                            \n",
       "\n",
       "    Shape__Area  Shape__Length  \n",
       "0  2.179317e+08   80376.210690  \n",
       "1  2.127640e+08   69016.501522  \n",
       "2  3.096963e+08  132149.401563  \n",
       "3  4.521033e+07   40904.970655  \n",
       "4  2.692050e+08  158881.601593  "
      ]
     },
     "execution_count": 11,
     "metadata": {},
     "output_type": "execute_result"
    }
   ],
   "source": [
    "df.head()"
   ]
  },
  {
   "cell_type": "code",
   "execution_count": null,
   "id": "b1104554-a4b8-4dc1-bea4-8d69b3a1740d",
   "metadata": {},
   "outputs": [],
   "source": [
    "# Rename columns"
   ]
  },
  {
   "cell_type": "code",
   "execution_count": 28,
   "id": "5fbcd5f1-855a-4be7-9419-c1705df2b45e",
   "metadata": {},
   "outputs": [],
   "source": [
    "df = df.rename(columns={'Name': 'City', 'OBJECTID': 'Number', 'Shape__Area' : 'Area', 'Shape__Length' : 'Length', 'Percentage of Land With Tree Canopy Coverage(Weighted by Population Size)' : '%Land w/ Canopy Coverage'})"
   ]
  },
  {
   "cell_type": "code",
   "execution_count": null,
   "id": "5d252c4e-f8c7-4a05-9d58-876ad9f26167",
   "metadata": {},
   "outputs": [],
   "source": [
    "# View columns with different name values"
   ]
  },
  {
   "cell_type": "code",
   "execution_count": 29,
   "id": "902a0a2e-c9fc-48e3-a7cd-d126c2ec18a9",
   "metadata": {},
   "outputs": [
    {
     "data": {
      "text/html": [
       "<div>\n",
       "<style scoped>\n",
       "    .dataframe tbody tr th:only-of-type {\n",
       "        vertical-align: middle;\n",
       "    }\n",
       "\n",
       "    .dataframe tbody tr th {\n",
       "        vertical-align: top;\n",
       "    }\n",
       "\n",
       "    .dataframe thead th {\n",
       "        text-align: right;\n",
       "    }\n",
       "</style>\n",
       "<table border=\"1\" class=\"dataframe\">\n",
       "  <thead>\n",
       "    <tr style=\"text-align: right;\">\n",
       "      <th></th>\n",
       "      <th>Number</th>\n",
       "      <th>Geography ID</th>\n",
       "      <th>Geography Type</th>\n",
       "      <th>City</th>\n",
       "      <th>%Land w/ Canopy Coverage</th>\n",
       "      <th>Area</th>\n",
       "      <th>Length</th>\n",
       "    </tr>\n",
       "  </thead>\n",
       "  <tbody>\n",
       "    <tr>\n",
       "      <th>0</th>\n",
       "      <td>1</td>\n",
       "      <td>csa_city_agoura_hills</td>\n",
       "      <td>Incorporated City</td>\n",
       "      <td>City of Agoura Hills</td>\n",
       "      <td>NaN</td>\n",
       "      <td>2.179317e+08</td>\n",
       "      <td>80376.210690</td>\n",
       "    </tr>\n",
       "    <tr>\n",
       "      <th>1</th>\n",
       "      <td>2</td>\n",
       "      <td>csa_city_alhambra</td>\n",
       "      <td>Incorporated City</td>\n",
       "      <td>City of Alhambra</td>\n",
       "      <td>4.6</td>\n",
       "      <td>2.127640e+08</td>\n",
       "      <td>69016.501522</td>\n",
       "    </tr>\n",
       "    <tr>\n",
       "      <th>2</th>\n",
       "      <td>3</td>\n",
       "      <td>csa_city_arcadia</td>\n",
       "      <td>Incorporated City</td>\n",
       "      <td>City of Arcadia</td>\n",
       "      <td>8.7</td>\n",
       "      <td>3.096963e+08</td>\n",
       "      <td>132149.401563</td>\n",
       "    </tr>\n",
       "    <tr>\n",
       "      <th>3</th>\n",
       "      <td>4</td>\n",
       "      <td>csa_city_artesia</td>\n",
       "      <td>Incorporated City</td>\n",
       "      <td>City of Artesia</td>\n",
       "      <td>NaN</td>\n",
       "      <td>4.521033e+07</td>\n",
       "      <td>40904.970655</td>\n",
       "    </tr>\n",
       "    <tr>\n",
       "      <th>4</th>\n",
       "      <td>5</td>\n",
       "      <td>csa_city_azusa</td>\n",
       "      <td>Incorporated City</td>\n",
       "      <td>City of Azusa</td>\n",
       "      <td>5.2</td>\n",
       "      <td>2.692050e+08</td>\n",
       "      <td>158881.601593</td>\n",
       "    </tr>\n",
       "  </tbody>\n",
       "</table>\n",
       "</div>"
      ],
      "text/plain": [
       "   Number           Geography ID     Geography Type                  City  \\\n",
       "0       1  csa_city_agoura_hills  Incorporated City  City of Agoura Hills   \n",
       "1       2      csa_city_alhambra  Incorporated City      City of Alhambra   \n",
       "2       3       csa_city_arcadia  Incorporated City       City of Arcadia   \n",
       "3       4       csa_city_artesia  Incorporated City       City of Artesia   \n",
       "4       5         csa_city_azusa  Incorporated City         City of Azusa   \n",
       "\n",
       "   %Land w/ Canopy Coverage          Area         Length  \n",
       "0                       NaN  2.179317e+08   80376.210690  \n",
       "1                       4.6  2.127640e+08   69016.501522  \n",
       "2                       8.7  3.096963e+08  132149.401563  \n",
       "3                       NaN  4.521033e+07   40904.970655  \n",
       "4                       5.2  2.692050e+08  158881.601593  "
      ]
     },
     "execution_count": 29,
     "metadata": {},
     "output_type": "execute_result"
    }
   ],
   "source": [
    "df.head()"
   ]
  },
  {
   "cell_type": "code",
   "execution_count": null,
   "id": "7a1e16f1-26a8-4d02-8620-7969a6bb595e",
   "metadata": {},
   "outputs": [],
   "source": [
    "# df.shape tells me how many rows and how many columns are in my data set"
   ]
  },
  {
   "cell_type": "code",
   "execution_count": 41,
   "id": "464c8947-95b1-47f3-862f-f6617e310f1c",
   "metadata": {},
   "outputs": [
    {
     "data": {
      "text/plain": [
       "(210, 7)"
      ]
     },
     "execution_count": 41,
     "metadata": {},
     "output_type": "execute_result"
    }
   ],
   "source": [
    "df.shape"
   ]
  },
  {
   "cell_type": "code",
   "execution_count": null,
   "id": "66513e7c-ae81-4732-baf3-6c8da4167ac5",
   "metadata": {},
   "outputs": [],
   "source": [
    "# df.columns.to_list() shows me the number of columns "
   ]
  },
  {
   "cell_type": "code",
   "execution_count": 107,
   "id": "1eef212a-e85a-484b-9b69-afc8c1ac9e14",
   "metadata": {},
   "outputs": [],
   "source": [
    "df.columns.to_list()\n",
    "col=df.columns.to_list()"
   ]
  },
  {
   "cell_type": "code",
   "execution_count": 80,
   "id": "1a56cdb4-31d6-4669-b12a-fddc9bfdcc6f",
   "metadata": {},
   "outputs": [
    {
     "data": {
      "text/plain": [
       "66                    City of South El Monte\n",
       "186    Unincorporated - West Antelope Valley\n",
       "40                          City of Lakewood\n",
       "177         Unincorporated - Stevenson Ranch\n",
       "30                      City of Hidden Hills\n",
       "Name: City, dtype: object"
      ]
     },
     "execution_count": 80,
     "metadata": {},
     "output_type": "execute_result"
    }
   ],
   "source": [
    "# single column \n",
    "df.City.sample(5)"
   ]
  },
  {
   "cell_type": "code",
   "execution_count": null,
   "id": "a0541f41-4c12-4a10-801c-b9465ddb298b",
   "metadata": {},
   "outputs": [],
   "source": [
    "# Explore the values of data and the most frequently occuring value, set calue counts of land canopy coverage to variable cc "
   ]
  },
  {
   "cell_type": "code",
   "execution_count": 103,
   "id": "520898d5-8c73-4119-9160-0b583d8810b2",
   "metadata": {},
   "outputs": [],
   "source": [
    "cc=df['%Land w/ Canopy Coverage'].value_counts"
   ]
  },
  {
   "cell_type": "code",
   "execution_count": 104,
   "id": "39041119-6774-49b7-ada5-040c856eb44b",
   "metadata": {},
   "outputs": [
    {
     "data": {
      "text/plain": [
       "<bound method IndexOpsMixin.value_counts of 0      NaN\n",
       "1      4.6\n",
       "2      8.7\n",
       "3      NaN\n",
       "4      5.2\n",
       "      ... \n",
       "205    NaN\n",
       "206    NaN\n",
       "207    NaN\n",
       "208    NaN\n",
       "209    4.1\n",
       "Name: %Land w/ Canopy Coverage, Length: 210, dtype: float64>"
      ]
     },
     "execution_count": 104,
     "metadata": {},
     "output_type": "execute_result"
    }
   ],
   "source": [
    "cc"
   ]
  },
  {
   "cell_type": "code",
   "execution_count": null,
   "id": "50cda739-00d1-4e7a-aa18-11e281cce142",
   "metadata": {},
   "outputs": [],
   "source": [
    "# df.info tells me the number of columns, the column names and the data type (integer, object, or float) in addition to the memory used for the dataset. Nonnull refers to completeness of dataset "
   ]
  },
  {
   "cell_type": "code",
   "execution_count": 45,
   "id": "4949b18e-2e28-4266-a7d9-d46f664f47a5",
   "metadata": {},
   "outputs": [
    {
     "name": "stdout",
     "output_type": "stream",
     "text": [
      "<class 'pandas.core.frame.DataFrame'>\n",
      "RangeIndex: 210 entries, 0 to 209\n",
      "Data columns (total 7 columns):\n",
      " #   Column                    Non-Null Count  Dtype  \n",
      "---  ------                    --------------  -----  \n",
      " 0   Number                    210 non-null    int64  \n",
      " 1   Geography ID              210 non-null    object \n",
      " 2   Geography Type            210 non-null    object \n",
      " 3   City                      210 non-null    object \n",
      " 4   %Land w/ Canopy Coverage  76 non-null     float64\n",
      " 5   Area                      210 non-null    float64\n",
      " 6   Length                    210 non-null    float64\n",
      "dtypes: float64(3), int64(1), object(3)\n",
      "memory usage: 11.6+ KB\n"
     ]
    }
   ],
   "source": [
    "df.info(1)"
   ]
  },
  {
   "cell_type": "code",
   "execution_count": null,
   "id": "86c0285c-5773-4bdf-a949-57e67f9ad687",
   "metadata": {},
   "outputs": [],
   "source": [
    "# df.plot helps me to create a data plot  "
   ]
  },
  {
   "cell_type": "code",
   "execution_count": 113,
   "id": "26328e2d-1770-4ff3-a0d8-36dbf5e86af6",
   "metadata": {},
   "outputs": [
    {
     "data": {
      "text/plain": [
       "<Axes: title={'center': 'Tree Coverage in LA'}, xlabel='City', ylabel='%Land w/ Canopy Coverage'>"
      ]
     },
     "execution_count": 113,
     "metadata": {},
     "output_type": "execute_result"
    },
    {
     "data": {
      "image/png": "[encoded data removed]",
      "text/plain": [
       "<Figure size 640x480 with 1 Axes>"
      ]
     },
     "metadata": {},
     "output_type": "display_data"
    }
   ],
   "source": [
    "df.plot.scatter(x= 'City', y='%Land w/ Canopy Coverage', title = 'Tree Coverage in LA')"
   ]
  },
  {
   "cell_type": "code",
   "execution_count": 114,
   "id": "9003eb4f-d595-405c-955c-e6177db05665",
   "metadata": {},
   "outputs": [
    {
     "name": "stdout",
     "output_type": "stream",
     "text": [
      "<class 'pandas.core.frame.DataFrame'>\n",
      "RangeIndex: 210 entries, 0 to 209\n",
      "Data columns (total 7 columns):\n",
      " #   Column                    Non-Null Count  Dtype  \n",
      "---  ------                    --------------  -----  \n",
      " 0   Number                    210 non-null    int64  \n",
      " 1   Geography ID              210 non-null    object \n",
      " 2   Geography Type            210 non-null    object \n",
      " 3   City                      210 non-null    object \n",
      " 4   %Land w/ Canopy Coverage  76 non-null     float64\n",
      " 5   Area                      210 non-null    float64\n",
      " 6   Length                    210 non-null    float64\n",
      "dtypes: float64(3), int64(1), object(3)\n",
      "memory usage: 11.6+ KB\n"
     ]
    }
   ],
   "source": [
    "df.info()"
   ]
  },
  {
   "cell_type": "code",
   "execution_count": 116,
   "id": "ffbbbc52-048b-4ecb-a19d-99cca24038a3",
   "metadata": {},
   "outputs": [
    {
     "data": {
      "text/html": [
       "<div>\n",
       "<style scoped>\n",
       "    .dataframe tbody tr th:only-of-type {\n",
       "        vertical-align: middle;\n",
       "    }\n",
       "\n",
       "    .dataframe tbody tr th {\n",
       "        vertical-align: top;\n",
       "    }\n",
       "\n",
       "    .dataframe thead th {\n",
       "        text-align: right;\n",
       "    }\n",
       "</style>\n",
       "<table border=\"1\" class=\"dataframe\">\n",
       "  <thead>\n",
       "    <tr style=\"text-align: right;\">\n",
       "      <th></th>\n",
       "      <th>City</th>\n",
       "      <th>%Land w/ Canopy Coverage</th>\n",
       "      <th>Area</th>\n",
       "      <th>Length</th>\n",
       "    </tr>\n",
       "  </thead>\n",
       "  <tbody>\n",
       "    <tr>\n",
       "      <th>0</th>\n",
       "      <td>City of Agoura Hills</td>\n",
       "      <td>NaN</td>\n",
       "      <td>2.179317e+08</td>\n",
       "      <td>8.037621e+04</td>\n",
       "    </tr>\n",
       "    <tr>\n",
       "      <th>1</th>\n",
       "      <td>City of Alhambra</td>\n",
       "      <td>4.6</td>\n",
       "      <td>2.127640e+08</td>\n",
       "      <td>6.901650e+04</td>\n",
       "    </tr>\n",
       "    <tr>\n",
       "      <th>2</th>\n",
       "      <td>City of Arcadia</td>\n",
       "      <td>8.7</td>\n",
       "      <td>3.096963e+08</td>\n",
       "      <td>1.321494e+05</td>\n",
       "    </tr>\n",
       "    <tr>\n",
       "      <th>3</th>\n",
       "      <td>City of Artesia</td>\n",
       "      <td>NaN</td>\n",
       "      <td>4.521033e+07</td>\n",
       "      <td>4.090497e+04</td>\n",
       "    </tr>\n",
       "    <tr>\n",
       "      <th>4</th>\n",
       "      <td>City of Azusa</td>\n",
       "      <td>5.2</td>\n",
       "      <td>2.692050e+08</td>\n",
       "      <td>1.588816e+05</td>\n",
       "    </tr>\n",
       "    <tr>\n",
       "      <th>...</th>\n",
       "      <td>...</td>\n",
       "      <td>...</td>\n",
       "      <td>...</td>\n",
       "      <td>...</td>\n",
       "    </tr>\n",
       "    <tr>\n",
       "      <th>205</th>\n",
       "      <td>Unincorporated - San Clemente Island</td>\n",
       "      <td>NaN</td>\n",
       "      <td>1.573237e+09</td>\n",
       "      <td>3.892104e+05</td>\n",
       "    </tr>\n",
       "    <tr>\n",
       "      <th>206</th>\n",
       "      <td>Unincorporated - Santa Catalina Island</td>\n",
       "      <td>NaN</td>\n",
       "      <td>1.999368e+09</td>\n",
       "      <td>4.157972e+05</td>\n",
       "    </tr>\n",
       "    <tr>\n",
       "      <th>207</th>\n",
       "      <td>Unincorporated - Kinneloa Mesa</td>\n",
       "      <td>NaN</td>\n",
       "      <td>4.682048e+07</td>\n",
       "      <td>5.656291e+04</td>\n",
       "    </tr>\n",
       "    <tr>\n",
       "      <th>208</th>\n",
       "      <td>Unincorporated - East Pasadena</td>\n",
       "      <td>NaN</td>\n",
       "      <td>3.714688e+07</td>\n",
       "      <td>4.102187e+04</td>\n",
       "    </tr>\n",
       "    <tr>\n",
       "      <th>209</th>\n",
       "      <td>City of Los Angeles</td>\n",
       "      <td>4.1</td>\n",
       "      <td>1.319049e+10</td>\n",
       "      <td>1.801593e+06</td>\n",
       "    </tr>\n",
       "  </tbody>\n",
       "</table>\n",
       "<p>210 rows × 4 columns</p>\n",
       "</div>"
      ],
      "text/plain": [
       "                                       City  %Land w/ Canopy Coverage  \\\n",
       "0                      City of Agoura Hills                       NaN   \n",
       "1                          City of Alhambra                       4.6   \n",
       "2                           City of Arcadia                       8.7   \n",
       "3                           City of Artesia                       NaN   \n",
       "4                             City of Azusa                       5.2   \n",
       "..                                      ...                       ...   \n",
       "205    Unincorporated - San Clemente Island                       NaN   \n",
       "206  Unincorporated - Santa Catalina Island                       NaN   \n",
       "207          Unincorporated - Kinneloa Mesa                       NaN   \n",
       "208          Unincorporated - East Pasadena                       NaN   \n",
       "209                     City of Los Angeles                       4.1   \n",
       "\n",
       "             Area        Length  \n",
       "0    2.179317e+08  8.037621e+04  \n",
       "1    2.127640e+08  6.901650e+04  \n",
       "2    3.096963e+08  1.321494e+05  \n",
       "3    4.521033e+07  4.090497e+04  \n",
       "4    2.692050e+08  1.588816e+05  \n",
       "..            ...           ...  \n",
       "205  1.573237e+09  3.892104e+05  \n",
       "206  1.999368e+09  4.157972e+05  \n",
       "207  4.682048e+07  5.656291e+04  \n",
       "208  3.714688e+07  4.102187e+04  \n",
       "209  1.319049e+10  1.801593e+06  \n",
       "\n",
       "[210 rows x 4 columns]"
      ]
     },
     "execution_count": 116,
     "metadata": {},
     "output_type": "execute_result"
    }
   ],
   "source": [
    "# show a dataframe with a subset of columns\n",
    "df[['City', '%Land w/ Canopy Coverage', 'Area', 'Length']]"
   ]
  },
  {
   "cell_type": "code",
   "execution_count": 122,
   "id": "30ce4c1d-ece1-4a7a-a7d2-1baba6cadac2",
   "metadata": {},
   "outputs": [
    {
     "data": {
      "text/html": [
       "<div>\n",
       "<style scoped>\n",
       "    .dataframe tbody tr th:only-of-type {\n",
       "        vertical-align: middle;\n",
       "    }\n",
       "\n",
       "    .dataframe tbody tr th {\n",
       "        vertical-align: top;\n",
       "    }\n",
       "\n",
       "    .dataframe thead th {\n",
       "        text-align: right;\n",
       "    }\n",
       "</style>\n",
       "<table border=\"1\" class=\"dataframe\">\n",
       "  <thead>\n",
       "    <tr style=\"text-align: right;\">\n",
       "      <th></th>\n",
       "      <th>City</th>\n",
       "      <th>%Land w/ Canopy Coverage</th>\n",
       "    </tr>\n",
       "  </thead>\n",
       "  <tbody>\n",
       "    <tr>\n",
       "      <th>195</th>\n",
       "      <td>Unincorporated - Whittier</td>\n",
       "      <td>NaN</td>\n",
       "    </tr>\n",
       "    <tr>\n",
       "      <th>163</th>\n",
       "      <td>Unincorporated - Rowland Heights</td>\n",
       "      <td>6.6</td>\n",
       "    </tr>\n",
       "    <tr>\n",
       "      <th>57</th>\n",
       "      <td>City of San Dimas</td>\n",
       "      <td>11.3</td>\n",
       "    </tr>\n",
       "    <tr>\n",
       "      <th>65</th>\n",
       "      <td>City of Signal Hill</td>\n",
       "      <td>NaN</td>\n",
       "    </tr>\n",
       "    <tr>\n",
       "      <th>55</th>\n",
       "      <td>City of Redondo Beach</td>\n",
       "      <td>3.1</td>\n",
       "    </tr>\n",
       "  </tbody>\n",
       "</table>\n",
       "</div>"
      ],
      "text/plain": [
       "                                 City  %Land w/ Canopy Coverage\n",
       "195         Unincorporated - Whittier                       NaN\n",
       "163  Unincorporated - Rowland Heights                       6.6\n",
       "57                  City of San Dimas                      11.3\n",
       "65                City of Signal Hill                       NaN\n",
       "55              City of Redondo Beach                       3.1"
      ]
     },
     "execution_count": 122,
     "metadata": {},
     "output_type": "execute_result"
    }
   ],
   "source": [
    "# list of desired column names \n",
    "desired_columns = ['City', '%Land w/ Canopy Coverage']\n",
    "\n",
    "#subset based on desired columns\n",
    "df[desired_columns].sample(5)"
   ]
  },
  {
   "cell_type": "code",
   "execution_count": 124,
   "id": "0d8e8ffe-2ef9-481f-aadd-c331b7c6023d",
   "metadata": {},
   "outputs": [
    {
     "data": {
      "text/html": [
       "<div>\n",
       "<style scoped>\n",
       "    .dataframe tbody tr th:only-of-type {\n",
       "        vertical-align: middle;\n",
       "    }\n",
       "\n",
       "    .dataframe tbody tr th {\n",
       "        vertical-align: top;\n",
       "    }\n",
       "\n",
       "    .dataframe thead th {\n",
       "        text-align: right;\n",
       "    }\n",
       "</style>\n",
       "<table border=\"1\" class=\"dataframe\">\n",
       "  <thead>\n",
       "    <tr style=\"text-align: right;\">\n",
       "      <th></th>\n",
       "      <th>City</th>\n",
       "      <th>%Land w/ Canopy Coverage</th>\n",
       "    </tr>\n",
       "  </thead>\n",
       "  <tbody>\n",
       "    <tr>\n",
       "      <th>0</th>\n",
       "      <td>City of Agoura Hills</td>\n",
       "      <td>NaN</td>\n",
       "    </tr>\n",
       "    <tr>\n",
       "      <th>1</th>\n",
       "      <td>City of Alhambra</td>\n",
       "      <td>4.6</td>\n",
       "    </tr>\n",
       "    <tr>\n",
       "      <th>2</th>\n",
       "      <td>City of Arcadia</td>\n",
       "      <td>8.7</td>\n",
       "    </tr>\n",
       "    <tr>\n",
       "      <th>3</th>\n",
       "      <td>City of Artesia</td>\n",
       "      <td>NaN</td>\n",
       "    </tr>\n",
       "    <tr>\n",
       "      <th>4</th>\n",
       "      <td>City of Azusa</td>\n",
       "      <td>5.2</td>\n",
       "    </tr>\n",
       "    <tr>\n",
       "      <th>...</th>\n",
       "      <td>...</td>\n",
       "      <td>...</td>\n",
       "    </tr>\n",
       "    <tr>\n",
       "      <th>205</th>\n",
       "      <td>Unincorporated - San Clemente Island</td>\n",
       "      <td>NaN</td>\n",
       "    </tr>\n",
       "    <tr>\n",
       "      <th>206</th>\n",
       "      <td>Unincorporated - Santa Catalina Island</td>\n",
       "      <td>NaN</td>\n",
       "    </tr>\n",
       "    <tr>\n",
       "      <th>207</th>\n",
       "      <td>Unincorporated - Kinneloa Mesa</td>\n",
       "      <td>NaN</td>\n",
       "    </tr>\n",
       "    <tr>\n",
       "      <th>208</th>\n",
       "      <td>Unincorporated - East Pasadena</td>\n",
       "      <td>NaN</td>\n",
       "    </tr>\n",
       "    <tr>\n",
       "      <th>209</th>\n",
       "      <td>City of Los Angeles</td>\n",
       "      <td>4.1</td>\n",
       "    </tr>\n",
       "  </tbody>\n",
       "</table>\n",
       "<p>210 rows × 2 columns</p>\n",
       "</div>"
      ],
      "text/plain": [
       "                                       City  %Land w/ Canopy Coverage\n",
       "0                      City of Agoura Hills                       NaN\n",
       "1                          City of Alhambra                       4.6\n",
       "2                           City of Arcadia                       8.7\n",
       "3                           City of Artesia                       NaN\n",
       "4                             City of Azusa                       5.2\n",
       "..                                      ...                       ...\n",
       "205    Unincorporated - San Clemente Island                       NaN\n",
       "206  Unincorporated - Santa Catalina Island                       NaN\n",
       "207          Unincorporated - Kinneloa Mesa                       NaN\n",
       "208          Unincorporated - East Pasadena                       NaN\n",
       "209                     City of Los Angeles                       4.1\n",
       "\n",
       "[210 rows x 2 columns]"
      ]
     },
     "execution_count": 124,
     "metadata": {},
     "output_type": "execute_result"
    }
   ],
   "source": [
    "#create new variable as a copy of desired_columns \n",
    "df_trimmed=df[desired_columns].copy()\n",
    "df_trimmed"
   ]
  },
  {
   "cell_type": "code",
   "execution_count": null,
   "id": "6d8106e5-8f1b-4eec-993a-114b199dd21c",
   "metadata": {},
   "outputs": [],
   "source": [
    "# view the first five rows of new dataset "
   ]
  },
  {
   "cell_type": "code",
   "execution_count": 153,
   "id": "3956c9fd-02f9-4f66-9538-f1c0304be689",
   "metadata": {},
   "outputs": [
    {
     "data": {
      "text/html": [
       "<div>\n",
       "<style scoped>\n",
       "    .dataframe tbody tr th:only-of-type {\n",
       "        vertical-align: middle;\n",
       "    }\n",
       "\n",
       "    .dataframe tbody tr th {\n",
       "        vertical-align: top;\n",
       "    }\n",
       "\n",
       "    .dataframe thead th {\n",
       "        text-align: right;\n",
       "    }\n",
       "</style>\n",
       "<table border=\"1\" class=\"dataframe\">\n",
       "  <thead>\n",
       "    <tr style=\"text-align: right;\">\n",
       "      <th></th>\n",
       "      <th>City</th>\n",
       "      <th>%Land w/ Canopy Coverage</th>\n",
       "    </tr>\n",
       "  </thead>\n",
       "  <tbody>\n",
       "    <tr>\n",
       "      <th>0</th>\n",
       "      <td>City of Agoura Hills</td>\n",
       "      <td>NaN</td>\n",
       "    </tr>\n",
       "    <tr>\n",
       "      <th>1</th>\n",
       "      <td>City of Alhambra</td>\n",
       "      <td>4.6</td>\n",
       "    </tr>\n",
       "    <tr>\n",
       "      <th>2</th>\n",
       "      <td>City of Arcadia</td>\n",
       "      <td>8.7</td>\n",
       "    </tr>\n",
       "    <tr>\n",
       "      <th>3</th>\n",
       "      <td>City of Artesia</td>\n",
       "      <td>NaN</td>\n",
       "    </tr>\n",
       "    <tr>\n",
       "      <th>4</th>\n",
       "      <td>City of Azusa</td>\n",
       "      <td>5.2</td>\n",
       "    </tr>\n",
       "  </tbody>\n",
       "</table>\n",
       "</div>"
      ],
      "text/plain": [
       "                   City  %Land w/ Canopy Coverage\n",
       "0  City of Agoura Hills                       NaN\n",
       "1      City of Alhambra                       4.6\n",
       "2       City of Arcadia                       8.7\n",
       "3       City of Artesia                       NaN\n",
       "4         City of Azusa                       5.2"
      ]
     },
     "execution_count": 153,
     "metadata": {},
     "output_type": "execute_result"
    }
   ],
   "source": [
    "df_trimmed.head()"
   ]
  },
  {
   "cell_type": "code",
   "execution_count": null,
   "id": "4ce484f3-943a-4d48-8c9c-aa76b17ac5ba",
   "metadata": {},
   "outputs": [],
   "source": [
    "# view first five rows of new dataset as a bar graph"
   ]
  },
  {
   "cell_type": "code",
   "execution_count": 155,
   "id": "a39ca3c7-bfc3-49ed-aa41-13cd4b8f92d0",
   "metadata": {},
   "outputs": [
    {
     "data": {
      "text/plain": [
       "<Axes: title={'center': 'Tree Coverage in LA'}, xlabel='City'>"
      ]
     },
     "execution_count": 155,
     "metadata": {},
     "output_type": "execute_result"
    },
    {
     "data": {
      "image/png": "[encoded data removed]",
      "text/plain": [
       "<Figure size 640x480 with 1 Axes>"
      ]
     },
     "metadata": {},
     "output_type": "display_data"
    }
   ],
   "source": [
    "df_trimmed.head(5).plot.b(x='City', y='%Land w/ Canopy Coverage', title = 'Tree Coverage in LA')"
   ]
  },
  {
   "cell_type": "code",
   "execution_count": null,
   "id": "011625d5-2129-4067-85e2-8b0f184cbfe2",
   "metadata": {},
   "outputs": [],
   "source": []
  }
 ],
 "metadata": {
  "kernelspec": {
   "display_name": "Python 3 (ipykernel)",
   "language": "python",
   "name": "python3"
  },
  "language_info": {
   "codemirror_mode": {
    "name": "ipython",
    "version": 3
   },
   "file_extension": ".py",
   "mimetype": "text/x-python",
   "name": "python",
   "nbconvert_exporter": "python",
   "pygments_lexer": "ipython3",
   "version": "3.11.9"
  }
 },
 "nbformat": 4,
 "nbformat_minor": 5
}
